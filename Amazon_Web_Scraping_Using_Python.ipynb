{
  "nbformat": 4,
  "nbformat_minor": 0,
  "metadata": {
    "colab": {
      "provenance": [],
      "authorship_tag": "ABX9TyNIaiBbdIsHAKLEelA5QFVy",
      "include_colab_link": true
    },
    "kernelspec": {
      "name": "python3",
      "display_name": "Python 3"
    },
    "language_info": {
      "name": "python"
    }
  },
  "cells": [
    {
      "cell_type": "markdown",
      "metadata": {
        "id": "view-in-github",
        "colab_type": "text"
      },
      "source": [
        "<a href=\"https://colab.research.google.com/github/TheDataCleaner0/data-analyst-portfolio/blob/main/Amazon_Web_Scraping_Using_Python.ipynb\" target=\"_parent\"><img src=\"https://colab.research.google.com/assets/colab-badge.svg\" alt=\"Open In Colab\"/></a>"
      ]
    },
    {
      "cell_type": "code",
      "execution_count": 70,
      "metadata": {
        "id": "6vFhFqJyfeSE"
      },
      "outputs": [],
      "source": [
        "# import libraries\n",
        "\n",
        "from bs4 import BeautifulSoup\n",
        "import requests\n",
        "import time\n",
        "import datetime\n",
        "\n",
        "import smtplib"
      ]
    },
    {
      "cell_type": "code",
      "source": [
        "# connect to the website\n",
        "URL = 'https://www.amazon.ca/ASTROX-Badminton-Racquet-Factory-Prestrung/dp/B0CXSM5KGC/?_encoding=UTF8&pd_rd_w=AQUhp&content-id=amzn1.sym.bff173df-dcdf-41d2-961a-dafb856d1d4b%3Aamzn1.symc.abfa8731-fff2-4177-9d31-bf48857c2263&pf_rd_p=bff173df-dcdf-41d2-961a-dafb856d1d4b&pf_rd_r=42TDV4WX4Q7Z2Q3V9CXH&pd_rd_wg=QEvlt&pd_rd_r=4ecccca3-b586-498a-9dec-179c78695441&ref_=pd_hp_d_btf_ci_mcx_mr_ca_id_hp_d'\n",
        "\n",
        "headers = {\"User-Agent\": \"Mozilla/5.0 (Windows NT 10.0; Win64; x64) AppleWebKit/537.36 (KHTML, like Gecko) Chrome/78.0.3904.108 Safari/537.36\", \"Accept-Encoding\":\"gzip, deflate\", \"Accept\":\"text/html,application/xhtml+xml,application/xml;q=0.9,*/*;q=0.8\", \"DNT\":\"1\",\"Connection\":\"close\", \"Upgrade-Insecure-Requests\":\"1\"}\n",
        "\n",
        "page = requests.get(URL, headers=headers)\n",
        "\n",
        "soup1 = BeautifulSoup(page.content, 'html.parser')\n",
        "\n",
        "soup2 = BeautifulSoup(soup1.prettify(), 'html.parser') # make it more readable\n",
        "\n",
        "\n"
      ],
      "metadata": {
        "id": "Zg_kcItHlEzB"
      },
      "execution_count": 79,
      "outputs": []
    },
    {
      "cell_type": "code",
      "source": [
        "\n",
        "title = soup2.find(id=\"productTitle\").get_text()\n",
        "price = soup2.find(class_='a-offscreen').get_text()\n",
        "\n",
        "print(title)\n",
        "print(price)"
      ],
      "metadata": {
        "colab": {
          "base_uri": "https://localhost:8080/"
        },
        "id": "ITyVn-nNJvX5",
        "outputId": "64165c76-af25-4e69-da61-562cc078a3a6"
      },
      "execution_count": 75,
      "outputs": [
        {
          "output_type": "stream",
          "name": "stdout",
          "text": [
            "\n",
            "           Yonex ASTROX 88 Play Badminton Racquet (Black/Silver) (4UG5) Factory Prestrung\n",
            "          \n",
            "\n",
            "                $59.10\n",
            "               \n"
          ]
        }
      ]
    },
    {
      "cell_type": "code",
      "source": [
        "# clean the title\n",
        "title = title.strip()\n",
        "print(title)\n",
        "type(title)"
      ],
      "metadata": {
        "id": "77cY36QgqvYr",
        "colab": {
          "base_uri": "https://localhost:8080/"
        },
        "outputId": "9d2228a8-ae8d-48f0-f1f3-e4d00ecf6a49"
      },
      "execution_count": 76,
      "outputs": [
        {
          "output_type": "stream",
          "name": "stdout",
          "text": [
            "Yonex ASTROX 88 Play Badminton Racquet (Black/Silver) (4UG5) Factory Prestrung\n"
          ]
        },
        {
          "output_type": "execute_result",
          "data": {
            "text/plain": [
              "str"
            ]
          },
          "metadata": {},
          "execution_count": 76
        }
      ]
    },
    {
      "cell_type": "code",
      "source": [
        "# clean the price\n",
        "# price = price.strip()[1:]\n",
        "price = price.strip().replace('$','')\n",
        "print(price)\n",
        "type(price)"
      ],
      "metadata": {
        "id": "eX98zwWfq-mM",
        "colab": {
          "base_uri": "https://localhost:8080/"
        },
        "outputId": "c8e02a5e-ab37-488e-a1f3-babd74df0a9a"
      },
      "execution_count": 77,
      "outputs": [
        {
          "output_type": "stream",
          "name": "stdout",
          "text": [
            "59.10\n"
          ]
        },
        {
          "output_type": "execute_result",
          "data": {
            "text/plain": [
              "str"
            ]
          },
          "metadata": {},
          "execution_count": 77
        }
      ]
    },
    {
      "cell_type": "code",
      "source": [
        "import datetime\n",
        "\n",
        "today = datetime.date.today()\n",
        "print(today)"
      ],
      "metadata": {
        "id": "ZGV6GafY1ly-",
        "colab": {
          "base_uri": "https://localhost:8080/"
        },
        "outputId": "804f7558-5dab-44e2-c0bd-996b1a446257"
      },
      "execution_count": 78,
      "outputs": [
        {
          "output_type": "stream",
          "name": "stdout",
          "text": [
            "2025-07-29\n"
          ]
        }
      ]
    },
    {
      "cell_type": "code",
      "source": [
        "import csv\n",
        "\n",
        "header = ['Title', 'Price', 'Date']\n",
        "data = [title, price, today]\n",
        "\n",
        "# create csv\n",
        "with open('AmazonWebScraperDataset.csv', 'w', newline='', encoding='UTF8') as f:\n",
        "    writer = csv.writer(f)\n",
        "    writer.writerow(header)\n",
        "    writer.writerow(data)\n"
      ],
      "metadata": {
        "id": "TXA4BKgFrtP6"
      },
      "execution_count": 80,
      "outputs": []
    },
    {
      "cell_type": "code",
      "source": [
        "import pandas as pd\n",
        "\n",
        "df = pd.read_csv('AmazonWebScraperDataset.csv')\n",
        "\n",
        "print(df)"
      ],
      "metadata": {
        "id": "ZFVue5Mz1zOw",
        "colab": {
          "base_uri": "https://localhost:8080/"
        },
        "outputId": "c9effcb8-4c8e-440b-8543-b4487984ce85"
      },
      "execution_count": 81,
      "outputs": [
        {
          "output_type": "stream",
          "name": "stdout",
          "text": [
            "                                               Title  Price        Date\n",
            "0  Yonex ASTROX 88 Play Badminton Racquet (Black/...   59.1  2025-07-29\n"
          ]
        }
      ]
    },
    {
      "cell_type": "code",
      "source": [
        "# appending data to the csv\n",
        "\n",
        "with open('AmazonWebScraperDataset.csv', 'a+', newline='', encoding='UTF8') as f:\n",
        "    writer = csv.writer(f)\n",
        "    writer.writerow(data)"
      ],
      "metadata": {
        "id": "gImcy26c2SyG"
      },
      "execution_count": 82,
      "outputs": []
    },
    {
      "cell_type": "code",
      "source": [
        "def price_tracker():\n",
        "  URL = 'https://www.amazon.ca/YONEX-NANOFLARE-Badminton-Lightning-Explosive/dp/B0CBQCMSQR/?_encoding=UTF8&pd_rd_w=GvUZK&content-id=amzn1.sym.f1c0dc5e-e517-49e1-8e12-8a9093fbfdd3%3Aamzn1.symc.5111b5a7-85f4-4b0c-88b2-c0a74bb618a6&pf_rd_p=f1c0dc5e-e517-49e1-8e12-8a9093fbfdd3&pf_rd_r=A1J501KHE79W3WWCZZ04&pd_rd_wg=dbPG7&pd_rd_r=8dc088ab-9ccf-4a75-8bd7-0aca5ff3ca1a&ref_=pd_hp_d_btf_ci_mcx_mr_hp_atf_m'\n",
        "\n",
        "  headers = {\"User-Agent\": \"Mozilla/5.0 (Windows NT 10.0; Win64; x64) AppleWebKit/537.36 (KHTML, like Gecko) Chrome/78.0.3904.108 Safari/537.36\", \"Accept-Encoding\":\"gzip, deflate\", \"Accept\":\"text/html,application/xhtml+xml,application/xml;q=0.9,*/*;q=0.8\", \"DNT\":\"1\",\"Connection\":\"close\", \"Upgrade-Insecure-Requests\":\"1\"}\n",
        "\n",
        "  page = requests.get(URL, headers=headers)\n",
        "\n",
        "  soup1 = BeautifulSoup(page.content, 'html.parser')\n",
        "\n",
        "  soup2 = BeautifulSoup(soup1.prettify(), 'html.parser') # make it more readable\n",
        "\n",
        "  title_element = soup2.find(id=\"productTitle\")\n",
        "  price_element = soup2.find(class_='aok_offscreen')\n",
        "\n",
        "  if title_element:\n",
        "    title = title_element.get_text().strip()\n",
        "  else:\n",
        "    title = \"Title not found\"\n",
        "    print(\"Warning: Product title not found on the page.\")\n",
        "\n",
        "\n",
        "  if price_element:\n",
        "    price = price_element.get_text().strip().replace('$','')\n",
        "  else:\n",
        "    price = \"Price not found\"\n",
        "    print(\"Warning: Price not found on the page.\")\n",
        "\n",
        "\n",
        "  import datetime\n",
        "\n",
        "  today = datetime.date.today()\n",
        "\n",
        "  import csv\n",
        "\n",
        "  header = ['Title', 'Price', 'Date']\n",
        "  data = [title, price, today]\n",
        "\n",
        "  with open('AmazonWebScraperDataset.csv', 'a+', newline='', encoding='UTF8') as f:\n",
        "    writer = csv.writer(f)\n",
        "    writer.writerow(data)\n",
        "\n",
        "  # You might want to add a check here to ensure price is a number before comparison\n",
        "  # if price < 120:\n",
        "  #   send_email()"
      ],
      "metadata": {
        "id": "XJpDf6cP2t_-"
      },
      "execution_count": 85,
      "outputs": []
    },
    {
      "cell_type": "code",
      "source": [
        "import pandas as pd\n",
        "\n",
        "df = pd.read_csv('AmazonWebScraperDataset.csv')\n",
        "print(df)"
      ],
      "metadata": {
        "id": "feLvkBX66PFb"
      },
      "execution_count": null,
      "outputs": []
    },
    {
      "cell_type": "code",
      "source": [
        "while(True):\n",
        "  price_tracker()\n",
        "  time.sleep(86400)"
      ],
      "metadata": {
        "id": "Ul2udg-RLWBP"
      },
      "execution_count": null,
      "outputs": []
    },
    {
      "cell_type": "code",
      "source": [
        "def send_email():\n",
        "  server = smtplib.SMTP_SSL('smtp.gmail.com', 465)\n",
        "  server.ehlo()\n",
        "  server.ehlo()\n",
        "  server.login('<email>', '<password>')\n",
        "\n",
        "  subject = \"The racket you want is below $120!\"\n",
        "  body = \"Welcome back to the Amazon\"\n",
        "\n",
        "  msg = f'subject: {subject}\\n\\n{body}'\n",
        "\n",
        "  server.sendemail(\n",
        "      'email',\n",
        "      msg\n",
        "  )"
      ],
      "metadata": {
        "id": "dOlMG69W61AJ"
      },
      "execution_count": null,
      "outputs": []
    }
  ]
}